{
 "cells": [
  {
   "cell_type": "markdown",
   "id": "8227d8da",
   "metadata": {},
   "source": [
    "# Make models\n",
    "*R.A. Collenteur, University of Graz*"
   ]
  },
  {
   "cell_type": "code",
   "execution_count": 1,
   "id": "befde464",
   "metadata": {},
   "outputs": [
    {
     "name": "stdout",
     "output_type": "stream",
     "text": [
      "Python version: 3.9.7 | packaged by conda-forge | (default, Sep 29 2021, 19:20:16) [MSC v.1916 64 bit (AMD64)]\n",
      "Numpy version: 1.20.3\n",
      "Scipy version: 1.7.3\n",
      "Pandas version: 1.3.4\n",
      "Pastas version: 0.19.0b\n",
      "Matplotlib version: 3.5.0\n"
     ]
    }
   ],
   "source": [
    "import pandas as pd\n",
    "import pastas as ps\n",
    "\n",
    "from glob import glob\n",
    "\n",
    "import matplotlib.pyplot as plt\n",
    "\n",
    "ps.set_log_level(\"ERROR\")\n",
    "ps.show_versions()"
   ]
  },
  {
   "cell_type": "markdown",
   "id": "d794a49c",
   "metadata": {},
   "source": [
    "## 1. load data"
   ]
  },
  {
   "cell_type": "code",
   "execution_count": 2,
   "id": "6be5136d",
   "metadata": {},
   "outputs": [
    {
     "data": {
      "text/plain": [
       "['..\\\\B16D0001001_BLOKZIJL.csv',\n",
       " '..\\\\B19C1016001_HEEMSKERK.csv',\n",
       " '..\\\\B32A0101001_LAREN.csv',\n",
       " '..\\\\B44D0063001_RIJEN.csv',\n",
       " '..\\\\B50E0111001_TILBURG.csv',\n",
       " '..\\\\B55A0354001_HULST.csv']"
      ]
     },
     "execution_count": 2,
     "metadata": {},
     "output_type": "execute_result"
    }
   ],
   "source": [
    "fnames = glob(f'../*.csv')\n",
    "fnames"
   ]
  },
  {
   "cell_type": "code",
   "execution_count": 4,
   "id": "d40d1f4d",
   "metadata": {},
   "outputs": [
    {
     "name": "stdout",
     "output_type": "stream",
     "text": [
      "Fit report Head [m] B16D0001001_BLOKZIJL          Fit Statistics\n",
      "===================================================\n",
      "nfev    76                     EVP           35.76\n",
      "nobs    5871                   R2             0.35\n",
      "noise   True                   RMSE           0.10\n",
      "tmin    2000-01-01 00:00:00    AIC       -48535.04\n",
      "tmax    2020-01-01 00:00:00    BIC       -48481.62\n",
      "freq    D                      Obj            0.75\n",
      "warmup  3650 days 00:00:00     ___                \n",
      "solver  LeastSquares           Interp.          No\n",
      "\n",
      "Parameters (8 optimized)\n",
      "===================================================\n",
      "                optimal   stderr     initial   vary\n",
      "rch_A          0.040464  ±11.22%    0.642381   True\n",
      "rch_n          0.755483   ±8.32%    1.000000   True\n",
      "rch_a         15.701156  ±19.28%   10.000000   True\n",
      "rch_srmax    160.663021  ±45.53%  250.000000   True\n",
      "rch_lp         0.250000    ±nan%    0.250000  False\n",
      "rch_ks        41.221167  ±44.34%  100.000000   True\n",
      "rch_gamma      0.863817   ±3.30%    2.000000   True\n",
      "rch_kv         1.000000    ±nan%    1.000000  False\n",
      "rch_simax      2.000000    ±nan%    2.000000  False\n",
      "constant_d    -2.186056   ±0.76%   -2.124913   True\n",
      "noise_alpha   85.345532  ±15.16%    1.000000   True\n",
      "Fit report Head [m] B16D0001001_BLOKZIJL           Fit Statistics\n",
      "====================================================\n",
      "nfev    44                     EVP           63.64\n",
      "nobs    5871                   R2             0.63\n",
      "noise   True                   RMSE           0.08\n",
      "tmin    2000-01-01 00:00:00    AIC       -48535.46\n",
      "tmax    2020-01-01 00:00:00    BIC       -48462.00\n",
      "freq    D                      Obj            0.75\n",
      "warmup  3650 days 00:00:00     ___                \n",
      "solver  LeastSquares           Interp.          No\n",
      "\n",
      "Parameters (11 optimized)\n",
      "====================================================\n",
      "                optimal    stderr     initial   vary\n",
      "rch_A          0.133533   ±76.27%    0.641627   True\n",
      "rch_n          0.131478   ±15.30%    1.000000   True\n",
      "rch_a        963.820584  ±583.45%   10.000000   True\n",
      "rch_srmax    120.659908    ±3.36%  250.000000   True\n",
      "rch_lp         0.250000     ±nan%    0.250000  False\n",
      "rch_ks         3.974892    ±5.66%  100.000000   True\n",
      "rch_gamma      1.839816    ±3.57%    2.000000   True\n",
      "rch_kv         1.000000     ±nan%    1.000000  False\n",
      "rch_simax      2.000000     ±nan%    2.000000  False\n",
      "rch_tp        -0.021536    ±0.00%    0.000000   True\n",
      "rch_tk         3.361253   ±25.32%    0.000000   True\n",
      "rch_k          1.121079   ±37.36%    2.000000   True\n",
      "constant_d    -2.246746    ±4.34%   -2.124913   True\n",
      "noise_alpha   44.228117   ±13.41%    1.000000   True\n",
      "Fit report Head [m] B16D0001001_BLOKZIJL                  Fit Statistics\n",
      "===========================================================\n",
      "nfev    23                     EVP           36.76\n",
      "nobs    5871                   R2             0.36\n",
      "noise   True                   RMSE           0.10\n",
      "tmin    2000-01-01 00:00:00    AIC       -50786.57\n",
      "tmax    2020-01-01 00:00:00    BIC       -50746.51\n",
      "freq    D                      Obj            0.51\n",
      "warmup  3650 days 00:00:00     ___                \n",
      "solver  LeastSquares           Interp.             No\n",
      "\n",
      "Parameters (6 optimized)\n",
      "===========================================================\n",
      "                  optimal           stderr    initial  vary\n",
      "rch_A        5.511965e-02           ±3.47%   0.199890  True\n",
      "rch_n        1.424600e+00           ±0.88%   1.000000  True\n",
      "rch_a        8.060158e+00           ±3.68%  10.000000  True\n",
      "rch_f       -1.075848e-09  ±5915439522.59%  -1.000000  True\n",
      "constant_d  -2.236911e+00           ±0.85%  -2.124913  True\n",
      "noise_alpha  1.227506e+02          ±17.55%   1.000000  True\n",
      "\n",
      "Warning! 1 parameter(s) on bounds\n",
      "===========================================================\n",
      "'rch_f' on upper bound: 0.00e+00\n"
     ]
    },
    {
     "ename": "NameError",
     "evalue": "name 'ml3' is not defined",
     "output_type": "error",
     "traceback": [
      "\u001b[1;31m---------------------------------------------------------------------------\u001b[0m",
      "\u001b[1;31mNameError\u001b[0m                                 Traceback (most recent call last)",
      "\u001b[1;32m~\\AppData\\Local\\Temp/ipykernel_11564/1843150426.py\u001b[0m in \u001b[0;36m<module>\u001b[1;34m\u001b[0m\n\u001b[0;32m     32\u001b[0m     \u001b[0mml2\u001b[0m\u001b[1;33m.\u001b[0m\u001b[0msolve\u001b[0m\u001b[1;33m(\u001b[0m\u001b[0mtmin\u001b[0m\u001b[1;33m=\u001b[0m\u001b[1;34m\"2000\"\u001b[0m\u001b[1;33m,\u001b[0m \u001b[0mtmax\u001b[0m\u001b[1;33m=\u001b[0m\u001b[1;34m\"2020\"\u001b[0m\u001b[1;33m)\u001b[0m\u001b[1;33m\u001b[0m\u001b[1;33m\u001b[0m\u001b[0m\n\u001b[0;32m     33\u001b[0m \u001b[1;33m\u001b[0m\u001b[0m\n\u001b[1;32m---> 34\u001b[1;33m     \u001b[0mps\u001b[0m\u001b[1;33m.\u001b[0m\u001b[0mplots\u001b[0m\u001b[1;33m.\u001b[0m\u001b[0mcompare\u001b[0m\u001b[1;33m(\u001b[0m\u001b[1;33m[\u001b[0m\u001b[0mml\u001b[0m\u001b[1;33m,\u001b[0m \u001b[0mml2\u001b[0m\u001b[1;33m,\u001b[0m \u001b[0mml3\u001b[0m\u001b[1;33m]\u001b[0m\u001b[1;33m)\u001b[0m\u001b[1;33m\u001b[0m\u001b[1;33m\u001b[0m\u001b[0m\n\u001b[0m",
      "\u001b[1;31mNameError\u001b[0m: name 'ml3' is not defined"
     ]
    }
   ],
   "source": [
    "mls = {}\n",
    "\n",
    "for fname in fnames:\n",
    "    data = pd.read_csv(fname, index_col=0, parse_dates=True, sep=\";\").loc[\"1980\":]\n",
    "    \n",
    "    head = data.iloc[:,0]\n",
    "    prec = data.iloc[:,1].dropna()*1e3\n",
    "    evap = data.iloc[:,2].dropna()*1e3\n",
    "    temp = data.iloc[:,3].dropna()\n",
    "\n",
    "    ml = ps.Model(head)\n",
    "    \n",
    "    sm = ps.RechargeModel(prec, evap, rfunc=ps.Gamma, name=\"rch\", \n",
    "                          recharge=ps.rch.FlexModel())\n",
    "    ml.add_stressmodel(sm)\n",
    "    ml.solve(tmin=\"2000\", tmax=\"2020\")\n",
    "    \n",
    "    ml2 = ps.Model(head)\n",
    "    \n",
    "    sm2 = ps.RechargeModel(prec, evap, rfunc=ps.Gamma, name=\"rch\", \n",
    "                          recharge=ps.rch.FlexModel(snow=True), temp=temp)\n",
    "    ml2.add_stressmodel(sm2)\n",
    "    # ml2.set_parameter(\"rch_kv\", vary=True)\n",
    "    ml2.solve(tmin=\"2000\", tmax=\"2020\")\n",
    "\n",
    "    ml3 = ps.Model(head)\n",
    "    \n",
    "    sm3 = ps.RechargeModel(prec, evap, rfunc=ps.Gamma, name=\"rch\", \n",
    "                          recharge=ps.rch.Linear())\n",
    "    ml3.add_stressmodel(sm2)\n",
    "    # ml2.set_parameter(\"rch_kv\", vary=True)\n",
    "    ml3.solve(tmin=\"2000\", tmax=\"2020\")\n",
    "        \n",
    "    ps.plots.compare([ml, ml2, ml3])"
   ]
  },
  {
   "cell_type": "code",
   "execution_count": null,
   "id": "e5f85021",
   "metadata": {},
   "outputs": [],
   "source": []
  }
 ],
 "metadata": {
  "kernelspec": {
   "display_name": "Python 3",
   "language": "python",
   "name": "python3"
  },
  "language_info": {
   "codemirror_mode": {
    "name": "ipython",
    "version": 3
   },
   "file_extension": ".py",
   "mimetype": "text/x-python",
   "name": "python",
   "nbconvert_exporter": "python",
   "pygments_lexer": "ipython3",
   "version": "3.9.7"
  }
 },
 "nbformat": 4,
 "nbformat_minor": 5
}
